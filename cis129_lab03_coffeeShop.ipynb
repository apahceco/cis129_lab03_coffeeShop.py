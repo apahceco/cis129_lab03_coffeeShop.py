{
 "cells": [
  {
   "cell_type": "code",
   "execution_count": null,
   "id": "f39bd892-57a8-4cb1-a324-e084cc09c1a2",
   "metadata": {
    "scrolled": true
   },
   "outputs": [],
   "source": [
    "'''\n",
    "#  Author: Anthony Pacheco \n",
    "#  Class: CIS 129 \n",
    "#  Project_Name: cis129_lab03_coffeeShop.py\n",
    "#  Description: This program will demonstrate a coffee shop interaction. \n",
    "The user will be asked how many coffees and muffins they want to order and display a recipe. \n",
    "The recipe will display the amount of coffee and muffins ordered and the price of each with \n",
    "additional sales tax for the total amount due. \n",
    "# Version: 1\n",
    "'''\n",
    "# Greeting\n",
    "print('Hi, welcome to BA Coffee and Muffin Shop!\\n\\nOur cups of coffee are 5 US dollars and are muffins are 4 US dollars.\\n\\nAt the end of your order, there will be an included 6 percent tax on your subtotal.\\n') \n",
    "\n",
    "\n",
    "num_coffees = int(input(\"How many cups of coffee would you like to order.\\n\")) # Promps the user for how many coffees and adds a new line for better readability.\n",
    "price_coffees = 5 * num_coffees  # This will process the number of coffees and multiply it by the price for the receipt. \n",
    "\n",
    "\n",
    "num_muffins = int(input(\"How many muffins would you like to order.\\n\")) # Promps the user for how many muffins and adds a new line for better readability.\n",
    "price_muffins = 4 * num_muffins # This will process the number of muffins and multiply it by the price for the receipt. \n",
    "\n",
    "print('\\n') # To add space between the the receipt. \n",
    "\n",
    "tax = (price_coffees + price_muffins) * .06  # This will process the tax amount. \n",
    "grand_total = price_coffees + price_muffins + tax # This will process total amount. \n",
    "\n",
    "# Lines 28-40 are for the receipt. \n",
    "print('Thank you for your order today!\\nHere is your receipt!')\n",
    "print('\\n')\n",
    "print('***********************************\\nBA Coffee and Muffin Shop\\nNumber of coffees bought?')\n",
    "print(num_coffees) # Line 15\n",
    "print('Number of muffins bought?')\n",
    "print(num_muffins) # Line 19\n",
    "print('***********************************\\n***********************************\\nBA Coffee and Muffins Shop Receipt')\n",
    "print(num_coffees,'Coffee\\'s at $5 each: $',price_coffees) # Line 15,16\n",
    "print(num_muffins,'Muffins at $4 each: $',price_muffins) # Line 19,20\n",
    "print('6% tax:$',tax) # Line 24\n",
    "print('----------')\n",
    "print('Total:$',grand_total) # Line 25 \n",
    "print('***********************************')\n",
    "\n",
    "print('\\n') # Extra spacing\n",
    "# Farewell \n",
    "print('Have a fantastic day!\\nSee you next time!')"
   ]
  }
 ],
 "metadata": {
  "kernelspec": {
   "display_name": "Python 3 (ipykernel)",
   "language": "python",
   "name": "python3"
  },
  "language_info": {
   "codemirror_mode": {
    "name": "ipython",
    "version": 3
   },
   "file_extension": ".py",
   "mimetype": "text/x-python",
   "name": "python",
   "nbconvert_exporter": "python",
   "pygments_lexer": "ipython3",
   "version": "3.11.5"
  }
 },
 "nbformat": 4,
 "nbformat_minor": 5
}
